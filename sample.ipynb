{
 "cells": [
  {
   "cell_type": "code",
   "execution_count": 2,
   "metadata": {},
   "outputs": [],
   "source": [
    "import json\n",
    "\n",
    "data = [\n",
    "  {\n",
    "    \"question\": \"What is the capital of France?\",\n",
    "    \"gold_answer\": \"The capital of France is Paris.\",\n",
    "    \"retrieved_evidence_1\": \"Paris is the capital city of France.\",\n",
    "    \"retrieved_evidence_2\": \"France has many cities, including Lyon and Marseille.\", \n",
    "    \"retrieved_evidence_3\": \"The Eiffel Tower is located in Paris.\",\n",
    "    \"retrieved_evidence_4\": \"Paris has been France's capital since 987 AD.\",\n",
    "    \"retrieved_evidence_5\": \"Paris is located in northern France on the Seine River.\",\n",
    "    \"retrieved_evidence_6\": \"The city of Paris is the political and cultural center of France.\",\n",
    "    \"retrieved_evidence_7\": \"Paris is home to many famous landmarks besides the Eiffel Tower.\",\n",
    "    \"retrieved_evidence_8\": \"The population of Paris proper is over 2 million people.\",\n",
    "    \"retrieved_evidence_9\": \"Paris hosts numerous museums including the famous Louvre.\",\n",
    "    \"retrieved_evidence_10\": \"The Notre-Dame Cathedral is an iconic Paris landmark.\",\n",
    "    \"retrieved_evidence_11\": \"Paris is divided into 20 administrative districts called arrondissements.\",\n",
    "    \"retrieved_evidence_12\": \"The Paris Metro is one of the oldest subway systems in the world.\",\n",
    "    \"retrieved_evidence_13\": \"Paris is known as the 'City of Light' or 'Ville Lumière'.\",\n",
    "    \"retrieved_evidence_14\": \"The Arc de Triomphe is located at the center of Paris.\",\n",
    "    \"retrieved_evidence_15\": \"Paris hosts major fashion events like Paris Fashion Week.\",\n",
    "    \"retrieved_evidence_16\": \"The Champs-Élysées is a famous avenue in Paris.\",\n",
    "    \"retrieved_evidence_17\": \"Paris has been a major European city for centuries.\",\n",
    "    \"retrieved_evidence_18\": \"The Palace of Versailles is located near Paris.\",\n",
    "    \"retrieved_evidence_19\": \"Paris is a global hub for art, fashion, and culture.\",\n",
    "    \"retrieved_evidence_20\": \"The Seine River flows through the heart of Paris.\",\n",
    "    \"retrieved_evidence_21\": \"Paris hosted the 1900 and 1924 Summer Olympics.\",\n",
    "    \"retrieved_evidence_22\": \"The Panthéon is a historic building in Paris.\",\n",
    "    \"retrieved_evidence_23\": \"Paris has numerous historic bridges crossing the Seine.\",\n",
    "    \"retrieved_evidence_24\": \"The Sacré-Cœur basilica sits atop Montmartre hill in Paris.\",\n",
    "    \"retrieved_evidence_25\": \"Paris is home to many prestigious universities.\",\n",
    "    \"retrieved_evidence_26\": \"The Paris Opera House is a grand 19th-century building.\",\n",
    "    \"retrieved_evidence_27\": \"Paris has an extensive public transportation system.\",\n",
    "    \"retrieved_evidence_28\": \"The Centre Pompidou is a modern art museum in Paris.\",\n",
    "    \"retrieved_evidence_29\": \"Paris hosts the French Open tennis tournament.\",\n",
    "    \"retrieved_evidence_30\": \"The Tuileries Garden is a public garden in Paris.\",\n",
    "    \"retrieved_evidence_31\": \"Paris is a major international business center.\",\n",
    "    \"retrieved_evidence_32\": \"The Latin Quarter is a historic district in Paris.\",\n",
    "    \"gold_statement_1\": \"Paris is the capital of France.\",\n",
    "    \"gold_statement_2\": \"France has a city named Lyon.\",\n",
    "    \"gold_statement_3\": \"Paris has the Eiffel Tower.\",\n",
    "    \"gold_statement_4\": \"\",\n",
    "    \"gold_statement_5\": \"\",\n",
    "    \"gold_statement_6\": \"\",\n",
    "    \"gold_statement_7\": \"\",\n",
    "    \"gold_statement_8\": \"\",\n",
    "    \"gold_statement_9\": \"\",\n",
    "    \"gold_statement_10\": \"\"\n",
    "  },\n",
    "]\n",
    "\n",
    "with open('/hdd0/jiwoong/MED_ADAS copy/sample_data.json', 'w') as f:\n",
    "    json.dump(data, f)\n"
   ]
  }
 ],
 "metadata": {
  "kernelspec": {
   "display_name": "meerkat",
   "language": "python",
   "name": "python3"
  },
  "language_info": {
   "codemirror_mode": {
    "name": "ipython",
    "version": 3
   },
   "file_extension": ".py",
   "mimetype": "text/x-python",
   "name": "python",
   "nbconvert_exporter": "python",
   "pygments_lexer": "ipython3",
   "version": "3.9.18"
  }
 },
 "nbformat": 4,
 "nbformat_minor": 2
}
