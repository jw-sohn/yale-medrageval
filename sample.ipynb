{
 "cells": [
  {
   "cell_type": "code",
   "execution_count": 1,
   "metadata": {},
   "outputs": [],
   "source": [
    "import json\n",
    "\n",
    "data = [{\n",
    "    \"question\": \"What are the main symptomss and treatments for diabetes?\",\n",
    "    \"model_response\": \"Based on the available evidence, diabetes has several key symptoms and treatments [1,2]. Common symptoms include excessive thirst, frequent urination, and extreme fatigue [1]. Some patients may also experience blurred vision and slow-healing wounds [1]. For treatment, regular blood glucose monitoring is essential, often requiring multiple daily checks [2]. Treatment options typically include insulin injections or oral medications [2]. Additionally, lifestyle modifications like maintaining a healthy diet and regular exercise are important components of diabetes management [2].\",\n",
    "    \"retrieved_evidences\": [\n",
    "        {\n",
    "            \"id\": \"1\",\n",
    "            \"title\": \"Diabetes Symptoms\",\n",
    "            \"body\": \"Common symptoms of diabetes include excessive thirst, frequent urination, unexplained weight loss, and extreme fatigue. Some patients may also experience blurred vision and slow-healing wounds.\"\n",
    "        },\n",
    "        {\n",
    "            \"id\": \"2\",\n",
    "            \"title\": \"Diabetes Treatment\", \n",
    "            \"body\": \"Treatment options for diabetes typically include regular blood glucose monitoring, insulin injections or oral medications, a healthy diet, and regular exercise. Some patients may need to check their blood sugar levels multiple times per day.\"\n",
    "        }\n",
    "    ],\n",
    "    \"reference\": \"grey's anatomy 10th edition page 100 - pulmonary edema is a disease that causes fluid to build up in the lungs and airways and makes it difficult to breathe\"\n",
    "\n",
    "}]\n",
    "\n",
    "with open('/hdd0/jiwoong/yale-medrageval/sample_data_phase202_v2.json', 'w') as f:\n",
    "    json.dump(data, f)\n"
   ]
  },
  {
   "cell_type": "code",
   "execution_count": null,
   "metadata": {},
   "outputs": [],
   "source": []
  },
  {
   "cell_type": "code",
   "execution_count": null,
   "metadata": {},
   "outputs": [],
   "source": []
  },
  {
   "cell_type": "code",
   "execution_count": null,
   "metadata": {},
   "outputs": [],
   "source": []
  },
  {
   "cell_type": "code",
   "execution_count": 3,
   "metadata": {},
   "outputs": [],
   "source": [
    "import json\n",
    "\n",
    "data = [{\n",
    "  \"question\": \"What are the main symptoms and treatments for diabetes?\",\n",
    "  \"gold_answer\": \"Diabetes symptoms include increased thirst, frequent urination, and fatigue. Common treatments include insulin therapy, blood sugar monitoring, and lifestyle changes.\",\n",
    "  \"retrieved_evidence_1\": \"Common symptoms of diabetes include excessive thirst, frequent urination, unexplained weight loss, and extreme fatigue. Some patients may also experience blurred vision and slow-healing wounds.\",\n",
    "  \"retrieved_evidence_2\": \"Treatment options for diabetes typically include regular blood glucose monitoring, insulin injections or oral medications, a healthy diet, and regular exercise. Some patients may need to check their blood sugar levels multiple times per day.\",\n",
    "  \"statements\": [\n",
    "    {\n",
    "      \"title\": \"Statement 1\",\n",
    "      \"body\": \"Increased thirst and frequent urination are symptoms of diabetes.\",\n",
    "      \"id\": \"statement_1\"\n",
    "    },\n",
    "    {\n",
    "      \"title\": \"Statement 2\", \n",
    "      \"body\": \"Insulin therapy is a treatment option for diabetes.\",\n",
    "      \"id\": \"statement_2\"\n",
    "    },\n",
    "    {\n",
    "      \"title\": \"Statement 3\",\n",
    "      \"body\": \"Fatigue is a common symptom of diabetes.\",\n",
    "      \"id\": \"statement_3\"\n",
    "    },\n",
    "    {\n",
    "      \"title\": \"Statement 4\",\n",
    "      \"body\": \"Regular blood sugar monitoring is part of diabetes management.\",\n",
    "      \"id\": \"statement_4\"\n",
    "    },\n",
    "    {\n",
    "      \"title\": \"Statement 5\",\n",
    "      \"body\": \"Lifestyle changes including diet and exercise are important for treating diabetes.\",\n",
    "      \"id\": \"statement_5\"\n",
    "    },\n",
    "    {\n",
    "      \"title\": \"Statement 6\",\n",
    "      \"body\": \"Diabetes can cause blurred vision and slow-healing wounds.\",\n",
    "      \"id\": \"statement_6\"\n",
    "    }\n",
    "  ]\n",
    "}\n",
    "]\n",
    "\n",
    "with open('/hdd0/jiwoong/yale-medrageval/sample_data_phase1_dragndrop.json', 'w') as f:\n",
    "    json.dump(data, f)\n"
   ]
  }
 ],
 "metadata": {
  "kernelspec": {
   "display_name": "meerkat",
   "language": "python",
   "name": "python3"
  },
  "language_info": {
   "codemirror_mode": {
    "name": "ipython",
    "version": 3
   },
   "file_extension": ".py",
   "mimetype": "text/x-python",
   "name": "python",
   "nbconvert_exporter": "python",
   "pygments_lexer": "ipython3",
   "version": "3.9.18"
  }
 },
 "nbformat": 4,
 "nbformat_minor": 2
}
